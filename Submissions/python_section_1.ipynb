{
 "cells": [
  {
   "cell_type": "markdown",
   "id": "f179e82f",
   "metadata": {},
   "source": [
    "## question 1"
   ]
  },
  {
   "cell_type": "code",
   "execution_count": 2,
   "id": "6fd523fb",
   "metadata": {},
   "outputs": [],
   "source": [
    "from typing import Dict, List\n",
    "import pandas as pd"
   ]
  },
  {
   "cell_type": "code",
   "execution_count": 3,
   "id": "987bdcd5",
   "metadata": {},
   "outputs": [],
   "source": [
    "def reverse_by_n_elements(lst: List[int], n: int) -> List[int]:\n",
    "    r=[]\n",
    "    for i in range(0,len(lst),n):\n",
    "        g=[]\n",
    "        for j in range(min(n,len(lst)-i)):\n",
    "            g.insert(0,lst[i+j])\n",
    "        r.extend(g)    \n",
    "    \n",
    "\n",
    "    # Your code goes here.\n",
    "    return r"
   ]
  },
  {
   "cell_type": "code",
   "execution_count": 4,
   "id": "62f0330f",
   "metadata": {},
   "outputs": [
    {
     "name": "stdout",
     "output_type": "stream",
     "text": [
      "[3, 2, 1, 6, 5, 4, 8, 7]\n"
     ]
    }
   ],
   "source": [
    "print(reverse_by_n_elements([1, 2, 3, 4, 5, 6, 7, 8], 3))"
   ]
  },
  {
   "cell_type": "code",
   "execution_count": 5,
   "id": "fdd92b7c",
   "metadata": {},
   "outputs": [
    {
     "name": "stdout",
     "output_type": "stream",
     "text": [
      "[2, 1, 4, 3, 5]\n"
     ]
    }
   ],
   "source": [
    "print(reverse_by_n_elements([1,2,3,4,5],2))"
   ]
  },
  {
   "cell_type": "markdown",
   "id": "ba287fb4",
   "metadata": {},
   "source": [
    "## question 2"
   ]
  },
  {
   "cell_type": "code",
   "execution_count": 6,
   "id": "a3d8ddb7",
   "metadata": {},
   "outputs": [],
   "source": [
    "def group_by_length(lst: List[str]) -> Dict[int, List[str]]:\n",
    "    r={}\n",
    "    for i in lst:\n",
    "        l=len(i)\n",
    "        \n",
    "        if l not in r:\n",
    "            r[l]=[]\n",
    "            \n",
    "        r[l].append(i)\n",
    "        \n",
    "    # Your code here\n",
    "    return dict(sorted(r.items()))"
   ]
  },
  {
   "cell_type": "code",
   "execution_count": 7,
   "id": "dd459c65",
   "metadata": {},
   "outputs": [
    {
     "name": "stdout",
     "output_type": "stream",
     "text": [
      "{3: ['bat', 'car', 'dog'], 4: ['bear'], 5: ['apple'], 8: ['elephant']}\n"
     ]
    }
   ],
   "source": [
    "print(group_by_length([\"apple\", \"bat\", \"car\", \"elephant\", \"dog\", \"bear\"]))"
   ]
  },
  {
   "cell_type": "code",
   "execution_count": 8,
   "id": "05643d82",
   "metadata": {},
   "outputs": [
    {
     "name": "stdout",
     "output_type": "stream",
     "text": [
      "{3: ['one', 'two'], 4: ['four'], 5: ['three']}\n"
     ]
    }
   ],
   "source": [
    "print(group_by_length([\"one\", \"two\", \"three\", \"four\"]))"
   ]
  },
  {
   "cell_type": "markdown",
   "id": "15dda942",
   "metadata": {},
   "source": [
    "### QUESTION 3"
   ]
  },
  {
   "cell_type": "code",
   "execution_count": 10,
   "id": "4fc5ac2c",
   "metadata": {},
   "outputs": [],
   "source": [
    "def flatten_dict(nested_dict: Dict, sep: str = '.') -> Dict:\n",
    "    result={}\n",
    "    def _flat(c_d:Dict,p_k: str = ''):\n",
    "        for key,value in c_d.items():\n",
    "            n_k=f\"{p_k}{sep}{key}\" if p_k else key\n",
    "            if isinstance(value,dict):\n",
    "                _flat(value,n_k)\n",
    "            elif isinstance(value,list):\n",
    "                for idx, item in enumerate(value):\n",
    "                    _flat({f\"{key}[{idx}]\": item},p_k)\n",
    "            else:\n",
    "                result[n_k]=value\n",
    "    _flat(nested_dict)           \n",
    "    \n",
    "    # Your code here\n",
    "    return result"
   ]
  },
  {
   "cell_type": "code",
   "execution_count": 12,
   "id": "4d4fb31f",
   "metadata": {},
   "outputs": [
    {
     "name": "stdout",
     "output_type": "stream",
     "text": [
      "{'road.name': 'Highway 1', 'road.length': 350, 'road.sections[0].id': 1, 'road.sections[0].condition.pavement': 'good', 'road.sections[0].condition.traffic': 'moderate'}\n"
     ]
    }
   ],
   "source": [
    "nested_dict= {\n",
    "    \"road\": {\n",
    "        \"name\": \"Highway 1\",\n",
    "        \"length\": 350,\n",
    "        \"sections\": [\n",
    "            {\n",
    "                \"id\": 1,\n",
    "                \"condition\": {\n",
    "                    \"pavement\": \"good\",\n",
    "                    \"traffic\": \"moderate\"\n",
    "                }\n",
    "            }\n",
    "        ]\n",
    "    }\n",
    "}\n",
    "flat=flatten_dict(nested_dict)\n",
    "print(flat)"
   ]
  },
  {
   "cell_type": "markdown",
   "id": "d27e96fa",
   "metadata": {},
   "source": [
    "### QUESTION 4"
   ]
  },
  {
   "cell_type": "code",
   "execution_count": 13,
   "id": "0105b601",
   "metadata": {},
   "outputs": [],
   "source": [
    "def unique_permutations(nums: List[int]) -> List[List[int]]:\n",
    "    def perm(start: int):\n",
    "        if start==len(nums):\n",
    "            result.append(nums[:])\n",
    "            return\n",
    "        s=set()\n",
    "        for i in range(start,len(nums)):\n",
    "            if nums[i] not in s:\n",
    "                s.add(nums[i])\n",
    "                nums[start], nums[i]=nums[i],nums[start]\n",
    "                perm(start+1)\n",
    "                nums[start],nums[i]=nums[i],nums[start]\n",
    "    result=[]\n",
    "    nums.sort()\n",
    "    perm(0)\n",
    "    return result\n",
    "        \n",
    "    # Your code here\n",
    "    pass"
   ]
  },
  {
   "cell_type": "code",
   "execution_count": 14,
   "id": "51da4db8",
   "metadata": {},
   "outputs": [
    {
     "name": "stdout",
     "output_type": "stream",
     "text": [
      "[[1, 1, 2], [1, 2, 1], [2, 1, 1]]\n"
     ]
    }
   ],
   "source": [
    "input_nums = [1, 1, 2]\n",
    "output = unique_permutations(input_nums)\n",
    "print(output)"
   ]
  },
  {
   "cell_type": "markdown",
   "id": "3236fa05",
   "metadata": {},
   "source": [
    "#### QUESTION 5"
   ]
  },
  {
   "cell_type": "code",
   "execution_count": 23,
   "id": "521e0a7b",
   "metadata": {},
   "outputs": [],
   "source": [
    "import re\n",
    "from typing import List\n",
    "\n",
    "def find_all_dates(text: str) -> List[str]:\n",
    "    patterns = [\n",
    "        r'\\b(\\d{2})-(\\d{2})-(\\d{4})\\b',  \n",
    "        r'\\b(\\d{2})/(\\d{2})/(\\d{4})\\b',  \n",
    "        r'\\b(\\d{4})\\.(\\d{2})\\.(\\d{2})\\b']\n",
    "    datestofind = []\n",
    "    for pattern in patterns:\n",
    "        datestofind.extend(re.findall(pattern, text))\n",
    "    datesformatted = []  \n",
    "    for date in datestofind:\n",
    "        if len(date) == 3:\n",
    "            datesformatted.append('-'.join(date) if '-' in text else\n",
    "                                  '/'.join(date) if '/' in text else\n",
    "                                  '.'.join(date))\n",
    "    return datesformatted"
   ]
  },
  {
   "cell_type": "code",
   "execution_count": 27,
   "id": "1bf506bd",
   "metadata": {},
   "outputs": [
    {
     "name": "stdout",
     "output_type": "stream",
     "text": [
      "['23-08-1994', '08-23-1994', '1994-08-23']\n"
     ]
    }
   ],
   "source": [
    "text = \"I was born on 23-08-1994, my friend on 08/23/1994, and another one on 1994.08.23.\"\n",
    "result=find_all_dates(text)\n",
    "print(result)"
   ]
  },
  {
   "cell_type": "markdown",
   "id": "87b44163",
   "metadata": {},
   "source": [
    "### QUESTION 6"
   ]
  },
  {
   "cell_type": "code",
   "execution_count": 28,
   "id": "b11a3e22",
   "metadata": {},
   "outputs": [
    {
     "name": "stdout",
     "output_type": "stream",
     "text": [
      "Requirement already satisfied: pandas in c:\\users\\lenovo\\anaconda3\\lib\\site-packages (2.0.3)\n",
      "Collecting polyline\n",
      "  Downloading polyline-2.0.2-py3-none-any.whl (6.0 kB)\n",
      "Requirement already satisfied: numpy in c:\\users\\lenovo\\anaconda3\\lib\\site-packages (1.24.4)\n",
      "Requirement already satisfied: python-dateutil>=2.8.2 in c:\\users\\lenovo\\anaconda3\\lib\\site-packages (from pandas) (2.8.2)\n",
      "Requirement already satisfied: pytz>=2020.1 in c:\\users\\lenovo\\anaconda3\\lib\\site-packages (from pandas) (2022.1)\n",
      "Requirement already satisfied: tzdata>=2022.1 in c:\\users\\lenovo\\anaconda3\\lib\\site-packages (from pandas) (2023.3)\n",
      "Requirement already satisfied: six>=1.5 in c:\\users\\lenovo\\anaconda3\\lib\\site-packages (from python-dateutil>=2.8.2->pandas) (1.12.0)\n",
      "Installing collected packages: polyline\n",
      "Successfully installed polyline-2.0.2\n"
     ]
    },
    {
     "name": "stderr",
     "output_type": "stream",
     "text": [
      "WARNING: Ignoring invalid distribution -rotobuf (c:\\users\\lenovo\\anaconda3\\lib\\site-packages)\n",
      "WARNING: Ignoring invalid distribution -rotobuf (c:\\users\\lenovo\\anaconda3\\lib\\site-packages)\n",
      "WARNING: Ignoring invalid distribution -rotobuf (c:\\users\\lenovo\\anaconda3\\lib\\site-packages)\n",
      "WARNING: Ignoring invalid distribution -rotobuf (c:\\users\\lenovo\\anaconda3\\lib\\site-packages)\n",
      "WARNING: Ignoring invalid distribution -rotobuf (c:\\users\\lenovo\\anaconda3\\lib\\site-packages)\n",
      "WARNING: Ignoring invalid distribution -rotobuf (c:\\users\\lenovo\\anaconda3\\lib\\site-packages)\n",
      "WARNING: Ignoring invalid distribution -rotobuf (c:\\users\\lenovo\\anaconda3\\lib\\site-packages)\n"
     ]
    }
   ],
   "source": [
    "!pip install pandas polyline numpy"
   ]
  },
  {
   "cell_type": "code",
   "execution_count": 20,
   "id": "e1ee9df6",
   "metadata": {},
   "outputs": [],
   "source": [
    "import polyline\n",
    "import pandas as pd\n",
    "import numpy as np\n",
    "\n",
    "def haversine(latitude1, longitude1, latitute2, longitude2):\n",
    "    latitude1, longitude1, latitute2, longitude2 = map(np.radians, [latitude1, longitude1, latitute2, longitude2])\n",
    "    \n",
    "    # Haversine formula\n",
    "    dlon = longitude2 - longitude1 \n",
    "    dlat = latitute2 - latitude1 \n",
    "    a = np.sin(dlat/2)**2 + np.cos(latitude1) * np.cos(latitute2) * np.sin(dlon/2)**2\n",
    "    c = 2 * np.arcsin(np.sqrt(a)) \n",
    "    r = 6371000  # Radius of Earth in meters\n",
    "    return c * r"
   ]
  },
  {
   "cell_type": "code",
   "execution_count": 22,
   "id": "30638800",
   "metadata": {},
   "outputs": [],
   "source": [
    "def polyline_to_dataframe(polyline_str: str) -> pd.DataFrame:\n",
    "    if not polyline_str or len(polyline_str) < 10:\n",
    "        raise ValueError(\"Invalid polyline string\")\n",
    "    \n",
    "    coordinates = polyline.decode(polyline_str)\n",
    "    df = pd.DataFrame(coordinates, columns=['latitude', 'longitude'])\n",
    "    df['distance'] = [0] + [haversine(*df.iloc[i-1], *df.iloc[i]) for i in range(1, len(df))]\n",
    "    \n",
    "    return df"
   ]
  },
  {
   "cell_type": "code",
   "execution_count": 23,
   "id": "60e1f0a3",
   "metadata": {},
   "outputs": [
    {
     "name": "stdout",
     "output_type": "stream",
     "text": [
      "   latitude  longitude       distance\n",
      "0    38.500   -120.200       0.000000\n",
      "1    40.700   -120.950  252924.435162\n",
      "2    43.252   -126.453  535981.434984\n"
     ]
    }
   ],
   "source": [
    "polyline_str = \"_p~iF~ps|U_ulLnnqC_mqNvxq`@\"\n",
    "df = polyline_to_dataframe(polyline_str)\n",
    "print(df)"
   ]
  },
  {
   "cell_type": "markdown",
   "id": "73fba603",
   "metadata": {},
   "source": [
    "### QUESTION 7"
   ]
  },
  {
   "cell_type": "code",
   "execution_count": null,
   "id": "0ff758bb",
   "metadata": {},
   "outputs": [],
   "source": [
    "from typing import List\n",
    "\n",
    "def rotate_and_multiply_matrix(matrix: List[List[int]]) -> List[List[int]]:\n",
    "    \"\"\"\n",
    "    Rotate the given matrix by 90 degrees clockwise, then multiply each element \n",
    "    by the sum of its original row and column index before rotation.\n",
    "    \n",
    "    Args:\n",
    "    - matrix (List[List[int]]): 2D list representing the matrix to be transformed.\n",
    "    \n",
    "    Returns:\n",
    "    - List[List[int]]: A new 2D list representing the transformed matrix.\n",
    "    \"\"\"\n",
    "    n = len(matrix)\n",
    "    rotated_matrix = [[0] * n for _ in range(n)]\n",
    "    for i in range(n):\n",
    "        for j in range(n):\n",
    "            rotated_matrix[j][n - 1 - i] = matrix[i][j]\n",
    "    final_matrix = [[0] * n for _ in range(n)]\n",
    "    for i in range(n):\n",
    "        for j in range(n):\n",
    "            original_row = n - 1 - j  \n",
    "            original_col = i    \n",
    "            index_sum = original_row + original_col\n",
    "            final_matrix[i][j] = rotated_matrix[i][j] * index_sum\n",
    "    return final_matrix"
   ]
  },
  {
   "cell_type": "markdown",
   "id": "541e21dc",
   "metadata": {},
   "source": [
    "### QUESTION 8"
   ]
  },
  {
   "cell_type": "code",
   "execution_count": 60,
   "id": "b6118a9b",
   "metadata": {},
   "outputs": [
    {
     "data": {
      "text/html": [
       "<div>\n",
       "<style scoped>\n",
       "    .dataframe tbody tr th:only-of-type {\n",
       "        vertical-align: middle;\n",
       "    }\n",
       "\n",
       "    .dataframe tbody tr th {\n",
       "        vertical-align: top;\n",
       "    }\n",
       "\n",
       "    .dataframe thead th {\n",
       "        text-align: right;\n",
       "    }\n",
       "</style>\n",
       "<table border=\"1\" class=\"dataframe\">\n",
       "  <thead>\n",
       "    <tr style=\"text-align: right;\">\n",
       "      <th></th>\n",
       "      <th>id</th>\n",
       "      <th>name</th>\n",
       "      <th>id_2</th>\n",
       "      <th>startDay</th>\n",
       "      <th>startTime</th>\n",
       "      <th>endDay</th>\n",
       "      <th>endTime</th>\n",
       "      <th>able2Hov2</th>\n",
       "      <th>able2Hov3</th>\n",
       "      <th>able3Hov2</th>\n",
       "      <th>able3Hov3</th>\n",
       "      <th>able5Hov2</th>\n",
       "      <th>able5Hov3</th>\n",
       "      <th>able4Hov2</th>\n",
       "      <th>able4Hov3</th>\n",
       "    </tr>\n",
       "  </thead>\n",
       "  <tbody>\n",
       "    <tr>\n",
       "      <th>0</th>\n",
       "      <td>1040000</td>\n",
       "      <td>Montgomery</td>\n",
       "      <td>-1</td>\n",
       "      <td>Monday</td>\n",
       "      <td>05:00:00</td>\n",
       "      <td>Wednesday</td>\n",
       "      <td>10:00:00</td>\n",
       "      <td>3.0</td>\n",
       "      <td>3.0</td>\n",
       "      <td>-1.0</td>\n",
       "      <td>-1</td>\n",
       "      <td>3</td>\n",
       "      <td>3</td>\n",
       "      <td>3</td>\n",
       "      <td>3</td>\n",
       "    </tr>\n",
       "    <tr>\n",
       "      <th>1</th>\n",
       "      <td>1040010</td>\n",
       "      <td>Black</td>\n",
       "      <td>-1</td>\n",
       "      <td>Monday</td>\n",
       "      <td>10:00:00</td>\n",
       "      <td>Friday</td>\n",
       "      <td>15:00:00</td>\n",
       "      <td>6.0</td>\n",
       "      <td>6.0</td>\n",
       "      <td>-1.0</td>\n",
       "      <td>-1</td>\n",
       "      <td>6</td>\n",
       "      <td>6</td>\n",
       "      <td>6</td>\n",
       "      <td>6</td>\n",
       "    </tr>\n",
       "    <tr>\n",
       "      <th>2</th>\n",
       "      <td>1040020</td>\n",
       "      <td>Emerald</td>\n",
       "      <td>-1</td>\n",
       "      <td>Thursday</td>\n",
       "      <td>15:00:00</td>\n",
       "      <td>Friday</td>\n",
       "      <td>19:00:00</td>\n",
       "      <td>3.0</td>\n",
       "      <td>3.0</td>\n",
       "      <td>-1.0</td>\n",
       "      <td>-1</td>\n",
       "      <td>3</td>\n",
       "      <td>3</td>\n",
       "      <td>3</td>\n",
       "      <td>3</td>\n",
       "    </tr>\n",
       "    <tr>\n",
       "      <th>3</th>\n",
       "      <td>1040030</td>\n",
       "      <td>Foley</td>\n",
       "      <td>-1</td>\n",
       "      <td>Monday</td>\n",
       "      <td>19:00:00</td>\n",
       "      <td>Friday</td>\n",
       "      <td>23:59:59</td>\n",
       "      <td>6.0</td>\n",
       "      <td>6.0</td>\n",
       "      <td>-1.0</td>\n",
       "      <td>-1</td>\n",
       "      <td>6</td>\n",
       "      <td>6</td>\n",
       "      <td>6</td>\n",
       "      <td>6</td>\n",
       "    </tr>\n",
       "    <tr>\n",
       "      <th>4</th>\n",
       "      <td>1050000</td>\n",
       "      <td>Whittier</td>\n",
       "      <td>1050001</td>\n",
       "      <td>Saturday</td>\n",
       "      <td>00:00:00</td>\n",
       "      <td>Sunday</td>\n",
       "      <td>23:59:59</td>\n",
       "      <td>6.0</td>\n",
       "      <td>6.0</td>\n",
       "      <td>NaN</td>\n",
       "      <td>-1</td>\n",
       "      <td>6</td>\n",
       "      <td>6</td>\n",
       "      <td>6</td>\n",
       "      <td>6</td>\n",
       "    </tr>\n",
       "    <tr>\n",
       "      <th>...</th>\n",
       "      <td>...</td>\n",
       "      <td>...</td>\n",
       "      <td>...</td>\n",
       "      <td>...</td>\n",
       "      <td>...</td>\n",
       "      <td>...</td>\n",
       "      <td>...</td>\n",
       "      <td>...</td>\n",
       "      <td>...</td>\n",
       "      <td>...</td>\n",
       "      <td>...</td>\n",
       "      <td>...</td>\n",
       "      <td>...</td>\n",
       "      <td>...</td>\n",
       "      <td>...</td>\n",
       "    </tr>\n",
       "    <tr>\n",
       "      <th>39509</th>\n",
       "      <td>1031012</td>\n",
       "      <td>Baldwin</td>\n",
       "      <td>1031030</td>\n",
       "      <td>Monday</td>\n",
       "      <td>19:00:00</td>\n",
       "      <td>Friday</td>\n",
       "      <td>23:59:59</td>\n",
       "      <td>11.0</td>\n",
       "      <td>11.0</td>\n",
       "      <td>4.0</td>\n",
       "      <td>4</td>\n",
       "      <td>11</td>\n",
       "      <td>11</td>\n",
       "      <td>11</td>\n",
       "      <td>11</td>\n",
       "    </tr>\n",
       "    <tr>\n",
       "      <th>39510</th>\n",
       "      <td>1031012</td>\n",
       "      <td>Baldwin</td>\n",
       "      <td>1031032</td>\n",
       "      <td>Saturday</td>\n",
       "      <td>00:00:00</td>\n",
       "      <td>Sunday</td>\n",
       "      <td>23:59:59</td>\n",
       "      <td>11.0</td>\n",
       "      <td>11.0</td>\n",
       "      <td>4.0</td>\n",
       "      <td>4</td>\n",
       "      <td>11</td>\n",
       "      <td>11</td>\n",
       "      <td>11</td>\n",
       "      <td>11</td>\n",
       "    </tr>\n",
       "    <tr>\n",
       "      <th>39511</th>\n",
       "      <td>1031014</td>\n",
       "      <td>Thickson</td>\n",
       "      <td>1031016</td>\n",
       "      <td>Saturday</td>\n",
       "      <td>00:00:00</td>\n",
       "      <td>Sunday</td>\n",
       "      <td>23:59:59</td>\n",
       "      <td>11.0</td>\n",
       "      <td>11.0</td>\n",
       "      <td>4.0</td>\n",
       "      <td>4</td>\n",
       "      <td>11</td>\n",
       "      <td>11</td>\n",
       "      <td>11</td>\n",
       "      <td>11</td>\n",
       "    </tr>\n",
       "    <tr>\n",
       "      <th>39512</th>\n",
       "      <td>1031014</td>\n",
       "      <td>Thickson</td>\n",
       "      <td>1031018</td>\n",
       "      <td>Monday</td>\n",
       "      <td>05:00:00</td>\n",
       "      <td>Wednesday</td>\n",
       "      <td>10:00:00</td>\n",
       "      <td>8.0</td>\n",
       "      <td>8.0</td>\n",
       "      <td>4.0</td>\n",
       "      <td>4</td>\n",
       "      <td>8</td>\n",
       "      <td>8</td>\n",
       "      <td>8</td>\n",
       "      <td>8</td>\n",
       "    </tr>\n",
       "    <tr>\n",
       "      <th>39513</th>\n",
       "      <td>1031014</td>\n",
       "      <td>Thickson</td>\n",
       "      <td>1031020</td>\n",
       "      <td>Monday</td>\n",
       "      <td>10:00:00</td>\n",
       "      <td>Friday</td>\n",
       "      <td>15:00:00</td>\n",
       "      <td>11.0</td>\n",
       "      <td>11.0</td>\n",
       "      <td>4.0</td>\n",
       "      <td>4</td>\n",
       "      <td>11</td>\n",
       "      <td>11</td>\n",
       "      <td>11</td>\n",
       "      <td>11</td>\n",
       "    </tr>\n",
       "  </tbody>\n",
       "</table>\n",
       "<p>39514 rows × 15 columns</p>\n",
       "</div>"
      ],
      "text/plain": [
       "            id        name     id_2  startDay startTime     endDay   endTime  \\\n",
       "0      1040000  Montgomery       -1    Monday  05:00:00  Wednesday  10:00:00   \n",
       "1      1040010       Black       -1    Monday  10:00:00     Friday  15:00:00   \n",
       "2      1040020     Emerald       -1  Thursday  15:00:00     Friday  19:00:00   \n",
       "3      1040030       Foley       -1    Monday  19:00:00     Friday  23:59:59   \n",
       "4      1050000    Whittier  1050001  Saturday  00:00:00     Sunday  23:59:59   \n",
       "...        ...         ...      ...       ...       ...        ...       ...   \n",
       "39509  1031012     Baldwin  1031030    Monday  19:00:00     Friday  23:59:59   \n",
       "39510  1031012     Baldwin  1031032  Saturday  00:00:00     Sunday  23:59:59   \n",
       "39511  1031014    Thickson  1031016  Saturday  00:00:00     Sunday  23:59:59   \n",
       "39512  1031014    Thickson  1031018    Monday  05:00:00  Wednesday  10:00:00   \n",
       "39513  1031014    Thickson  1031020    Monday  10:00:00     Friday  15:00:00   \n",
       "\n",
       "       able2Hov2  able2Hov3  able3Hov2  able3Hov3  able5Hov2  able5Hov3  \\\n",
       "0            3.0        3.0       -1.0         -1          3          3   \n",
       "1            6.0        6.0       -1.0         -1          6          6   \n",
       "2            3.0        3.0       -1.0         -1          3          3   \n",
       "3            6.0        6.0       -1.0         -1          6          6   \n",
       "4            6.0        6.0        NaN         -1          6          6   \n",
       "...          ...        ...        ...        ...        ...        ...   \n",
       "39509       11.0       11.0        4.0          4         11         11   \n",
       "39510       11.0       11.0        4.0          4         11         11   \n",
       "39511       11.0       11.0        4.0          4         11         11   \n",
       "39512        8.0        8.0        4.0          4          8          8   \n",
       "39513       11.0       11.0        4.0          4         11         11   \n",
       "\n",
       "       able4Hov2  able4Hov3  \n",
       "0              3          3  \n",
       "1              6          6  \n",
       "2              3          3  \n",
       "3              6          6  \n",
       "4              6          6  \n",
       "...          ...        ...  \n",
       "39509         11         11  \n",
       "39510         11         11  \n",
       "39511         11         11  \n",
       "39512          8          8  \n",
       "39513         11         11  \n",
       "\n",
       "[39514 rows x 15 columns]"
      ]
     },
     "execution_count": 60,
     "metadata": {},
     "output_type": "execute_result"
    }
   ],
   "source": [
    "# uploading the data\n",
    "df=pd.read_csv(\"dataset-1.csv\")\n",
    "df"
   ]
  },
  {
   "cell_type": "code",
   "execution_count": 61,
   "id": "8766d935",
   "metadata": {},
   "outputs": [
    {
     "data": {
      "text/plain": [
       "Index(['id', 'name', 'id_2', 'startDay', 'startTime', 'endDay', 'endTime',\n",
       "       'able2Hov2', 'able2Hov3', 'able3Hov2', 'able3Hov3', 'able5Hov2',\n",
       "       'able5Hov3', 'able4Hov2', 'able4Hov3'],\n",
       "      dtype='object')"
      ]
     },
     "execution_count": 61,
     "metadata": {},
     "output_type": "execute_result"
    }
   ],
   "source": [
    "df.columns"
   ]
  },
  {
   "cell_type": "code",
   "execution_count": 67,
   "id": "40b2d30a",
   "metadata": {},
   "outputs": [],
   "source": [
    "def time_check(df: pd.DataFrame) -> pd.Series:\n",
    "    #making sure endday and startday are in string format\n",
    "    df['startDay'] = df['startDay'].astype(str)\n",
    "    df['endDay'] = df['endDay'].astype(str)\n",
    "    # conversion of timsstamp column to datatime format\n",
    "    df['start_datetime'] = pd.to_datetime(df['startDay'] + ' ' + df['startTime'], format='%Y-%m-%d %H:%M:%S', errors='coerce')\n",
    "    df['end_datetime'] = pd.to_datetime(df['endDay'] + ' ' + df['endTime'], format='%Y-%m-%d %H:%M:%S', errors='coerce')\n",
    "    # mutli index series is created\n",
    "    result = pd.Series(index=pd.MultiIndex.from_product([df['id'].unique(), df['id_2'].unique()]), dtype=bool)\n",
    "    grouped = df.groupby(['id', 'id_2'])\n",
    "    # checking group for completeness\n",
    "    for (idval, id2val), group in grouped:\n",
    "        mintimestamp = group['start_datetime'].min()\n",
    "        maxtimestamp = group['end_datetime'].max() # check for NaT values\n",
    "        if pd.isna(mintimestamp) or pd.isna(maxtimestamp):\n",
    "            result[(idval, id2val)] = True\n",
    "            continue\n",
    "        # checking if it covers full 24 hours or not\n",
    "        fulldaycoverage = (mintimestamp.time() <= pd.Timestamp('00:00:00').time() and \n",
    "                             maxtimestamp.time() >= pd.Timestamp('23:59:59').time())\n",
    "        # checking all 7 days are covered\n",
    "        dayscovered = group['start_datetime'].dt.dayofweek.unique()\n",
    "        alldayscovered = len(dayscovered) == 7\n",
    "\n",
    "        result[(idval,id2val)] = not(fulldaycoverage and alldayscovered)\n",
    "    \n",
    "    return result"
   ]
  },
  {
   "cell_type": "code",
   "execution_count": 68,
   "id": "2a918e5b",
   "metadata": {},
   "outputs": [
    {
     "name": "stdout",
     "output_type": "stream",
     "text": [
      "1040000  -1          True\n",
      "          1050001    True\n",
      "          1050000    True\n",
      "          1200002    True\n",
      "          1200004    True\n",
      "                     ... \n",
      "1067001   1292046    True\n",
      "          1292006    True\n",
      "          1292028    True\n",
      "          1292000    True\n",
      "          1300008    True\n",
      "Length: 304720, dtype: bool\n"
     ]
    }
   ],
   "source": [
    "incorrect_timestamps = time_check(df)\n",
    "print(incorrect_timestamps)"
   ]
  }
 ],
 "metadata": {
  "kernelspec": {
   "display_name": "Python 3 (ipykernel)",
   "language": "python",
   "name": "python3"
  },
  "language_info": {
   "codemirror_mode": {
    "name": "ipython",
    "version": 3
   },
   "file_extension": ".py",
   "mimetype": "text/x-python",
   "name": "python",
   "nbconvert_exporter": "python",
   "pygments_lexer": "ipython3",
   "version": "3.9.13"
  }
 },
 "nbformat": 4,
 "nbformat_minor": 5
}
